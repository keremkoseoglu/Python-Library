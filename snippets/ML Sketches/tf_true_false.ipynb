{
 "cells": [
  {
   "cell_type": "code",
   "execution_count": 1,
   "metadata": {},
   "outputs": [],
   "source": [
    "# This example was taken from https://towardsdatascience.com/tensorflow-for-absolute-beginners-28c1544fb0d6\n",
    "\n",
    "import tensorflow as tf\n",
    "T, F = 1.0, -1.0 # numeric values of TRUE and FALSE. We could have assigned any value to them.\n",
    "\n",
    "# Bias is a constant we choose (typically 1 or -1) and let our neural net decide the weight \n",
    "# with which the constant term should be multiplied to get the desired function we intend to approximate.\n",
    "bias = 1.0"
   ]
  },
  {
   "cell_type": "code",
   "execution_count": 2,
   "metadata": {},
   "outputs": [],
   "source": [
    "'''\n",
    "Define training input and output.\n",
    "Normally, we would upload this from a file or something.\n",
    "Here, we are simply giving the results of an AND function\n",
    "F(true, false) = false \n",
    "etc...\n",
    "'''\n",
    "\n",
    "training_input = [\n",
    "    [T, T, bias],\n",
    "    [T, F, bias],\n",
    "    [F, T, bias],\n",
    "    [F, F, bias]\n",
    "]\n",
    "\n",
    "training_output = [\n",
    "    [T],\n",
    "    [F],\n",
    "    [F],\n",
    "    [F]\n",
    "]"
   ]
  },
  {
   "cell_type": "code",
   "execution_count": 3,
   "metadata": {},
   "outputs": [],
   "source": [
    "'''\n",
    "Time to define our weight to tensorflow.\n",
    "Each line has 3 variables - like T, T, bias.\n",
    "And we have one output - true of false.\n",
    "We make the definition accordingly.\n",
    "'''\n",
    "\n",
    "w = tf.Variable(tf.random_normal([3, 1]), dtype=tf.float32)"
   ]
  },
  {
   "cell_type": "code",
   "execution_count": 4,
   "metadata": {},
   "outputs": [],
   "source": [
    "'''\n",
    "Define model\n",
    "'''\n",
    "\n",
    "def step(x):\n",
    "    is_greater = tf.greater(x, 0) # Is it \"True\"?\n",
    "    as_float = tf.to_float(is_greater)\n",
    "    doubled = tf.multiply(as_float, 2)\n",
    "    return tf.subtract(doubled, 1)"
   ]
  },
  {
   "cell_type": "code",
   "execution_count": 5,
   "metadata": {},
   "outputs": [
    {
     "name": "stdout",
     "output_type": "stream",
     "text": [
      "epoch: 2 mse: 0.0\n",
      "[[ 1.3805172]\n",
      " [ 3.0043433]\n",
      " [-3.2351022]]\n"
     ]
    }
   ],
   "source": [
    "output = step(tf.matmul(training_input, w))\n",
    "error = tf.subtract(training_output, output)\n",
    "mse = tf.reduce_mean(tf.square(error))\n",
    "\n",
    "delta = tf.matmul(training_input, error, transpose_a=True)\n",
    "train = tf.assign(w, tf.add(w, delta))\n",
    "\n",
    "sess = tf.Session()\n",
    "sess.run(tf.global_variables_initializer())\n",
    "\n",
    "err, target = 1, 0\n",
    "epoch, max_epochs = 0, 10\n",
    "\n",
    "while err > target and epoch < max_epochs:\n",
    "    epoch += 1\n",
    "    err, _ = sess.run([mse, train])\n",
    "print('epoch:', epoch, 'mse:', err)\n",
    "\n",
    "print(sess.run(w))"
   ]
  },
  {
   "cell_type": "code",
   "execution_count": null,
   "metadata": {},
   "outputs": [],
   "source": []
  }
 ],
 "metadata": {
  "kernelspec": {
   "display_name": "Python 3",
   "language": "python",
   "name": "python3"
  },
  "language_info": {
   "codemirror_mode": {
    "name": "ipython",
    "version": 3
   },
   "file_extension": ".py",
   "mimetype": "text/x-python",
   "name": "python",
   "nbconvert_exporter": "python",
   "pygments_lexer": "ipython3",
   "version": "3.6.5"
  }
 },
 "nbformat": 4,
 "nbformat_minor": 2
}
